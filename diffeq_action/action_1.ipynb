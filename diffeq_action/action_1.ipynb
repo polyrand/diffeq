{
 "cells": [
  {
   "cell_type": "code",
   "execution_count": 14,
   "metadata": {},
   "outputs": [],
   "source": [
    "import numpy as np\n",
    "import numpy.linalg as la"
   ]
  },
  {
   "cell_type": "code",
   "execution_count": 15,
   "metadata": {},
   "outputs": [],
   "source": [
    "earth_mass = 5.97e24 # kg\n",
    "moon_mass = 7.35e22 # kg\n",
    "gravitational_constant = 6.67e-11 # N m2 / kg2"
   ]
  },
  {
   "cell_type": "markdown",
   "metadata": {},
   "source": [
    "<tr>\n",
    "<td> <img src=\"media/gravity.png\" alt=\"Drawing\" style=\"width: 450px;\"/> </td>\n",
    "<td> <img src=\"media/acc_diffeq.png\" alt=\"Drawing\" style=\"width: 450px;\"/> </td>\n",
    "</tr>\n"
   ]
  },
  {
   "cell_type": "code",
   "execution_count": 16,
   "metadata": {},
   "outputs": [],
   "source": [
    "def acceleration(moon_position, spaceship_position):\n",
    "    #nonsense = numpy.linalg.norm(moon_position) * spaceship_position\n",
    "    spaceship_moon_vector = moon_position - spaceship_position\n",
    "    \n",
    "    d_sm = la.norm(spaceship_moon_vector)\n",
    "    d_es = la.norm(spaceship_position)\n",
    "    d_em = la.norm(moon_position)\n",
    "\n",
    "    \n",
    "    x_s = (spaceship_position * -1) / la.norm(spaceship_position)\n",
    "    x_m = (moon_position * -1) / la.norm(moon_position)\n",
    "    \n",
    "    x_moon = (x_m - x_s) / d_sm\n",
    "    \n",
    "    factor_one = gravitational_constant * (earth_mass/(d_es**2)) * x_s\n",
    "    \n",
    "    factor_two = gravitational_constant * (moon_mass/(d_em**2)) * x_moon\n",
    "    \n",
    "    acceleration = factor_one + factor_two\n",
    "    \n",
    "    return acceleration"
   ]
  },
  {
   "cell_type": "code",
   "execution_count": 17,
   "metadata": {},
   "outputs": [],
   "source": [
    "moon = np.array([3,2])\n",
    "space = np.array([2, -1])"
   ]
  },
  {
   "cell_type": "code",
   "execution_count": 18,
   "metadata": {},
   "outputs": [
    {
     "data": {
      "text/plain": [
       "array([-7.12245640e+13,  3.54965199e+13])"
      ]
     },
     "execution_count": 18,
     "metadata": {},
     "output_type": "execute_result"
    }
   ],
   "source": [
    "acceleration(moon, space)"
   ]
  },
  {
   "cell_type": "code",
   "execution_count": null,
   "metadata": {},
   "outputs": [],
   "source": []
  }
 ],
 "metadata": {
  "kernelspec": {
   "display_name": "Python 3",
   "language": "python",
   "name": "python3"
  },
  "language_info": {
   "codemirror_mode": {
    "name": "ipython",
    "version": 3
   },
   "file_extension": ".py",
   "mimetype": "text/x-python",
   "name": "python",
   "nbconvert_exporter": "python",
   "pygments_lexer": "ipython3",
   "version": "3.7.2"
  }
 },
 "nbformat": 4,
 "nbformat_minor": 2
}
